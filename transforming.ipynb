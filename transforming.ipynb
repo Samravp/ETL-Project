{
 "cells": [
  {
   "cell_type": "code",
   "execution_count": 1,
   "metadata": {},
   "outputs": [],
   "source": [
    "# import packages\n",
    "import pandas as pd\n",
    "import datetime as dt\n",
    "from datetime import date"
   ]
  },
  {
   "cell_type": "code",
   "execution_count": 2,
   "metadata": {},
   "outputs": [],
   "source": [
    "crashes = pd.read_csv(\"crashes.csv\")"
   ]
  },
  {
   "cell_type": "code",
   "execution_count": 3,
   "metadata": {},
   "outputs": [
    {
     "data": {
      "text/plain": [
       "Index(['X', 'Y', 'OBJECTID', 'ACCIDENT_NO', 'ABS_CODE', 'ACCIDENT_STATUS',\n",
       "       'ACCIDENT_DATE', 'ACCIDENT_TIME', 'ALCOHOLTIME', 'ACCIDENT_TYPE',\n",
       "       'DAY_OF_WEEK', 'DCA_CODE', 'HIT_RUN_FLAG', 'LIGHT_CONDITION',\n",
       "       'POLICE_ATTEND', 'ROAD_GEOMETRY', 'SEVERITY', 'SPEED_ZONE',\n",
       "       'RUN_OFFROAD', 'NODE_ID', 'LONGITUDE', 'LATITUDE', 'NODE_TYPE',\n",
       "       'LGA_NAME', 'REGION_NAME', 'VICGRID_X', 'VICGRID_Y', 'TOTAL_PERSONS',\n",
       "       'INJ_OR_FATAL', 'FATALITY', 'SERIOUSINJURY', 'OTHERINJURY',\n",
       "       'NONINJURED', 'MALES', 'FEMALES', 'BICYCLIST', 'PASSENGER', 'DRIVER',\n",
       "       'PEDESTRIAN', 'PILLION', 'MOTORIST', 'UNKNOWN', 'PED_CYCLIST_5_12',\n",
       "       'PED_CYCLIST_13_18', 'OLD_PEDESTRIAN', 'OLD_DRIVER', 'YOUNG_DRIVER',\n",
       "       'ALCOHOL_RELATED', 'UNLICENCSED', 'NO_OF_VEHICLES', 'HEAVYVEHICLE',\n",
       "       'PASSENGERVEHICLE', 'MOTORCYCLE', 'PUBLICVEHICLE', 'DEG_URBAN_NAME',\n",
       "       'DEG_URBAN_ALL', 'LGA_NAME_ALL', 'REGION_NAME_ALL', 'SRNS', 'SRNS_ALL',\n",
       "       'RMA', 'RMA_ALL', 'DIVIDED', 'DIVIDED_ALL', 'STAT_DIV_NAME'],\n",
       "      dtype='object')"
      ]
     },
     "execution_count": 3,
     "metadata": {},
     "output_type": "execute_result"
    }
   ],
   "source": [
    "crashes.columns"
   ]
  },
  {
   "cell_type": "code",
   "execution_count": 4,
   "metadata": {},
   "outputs": [],
   "source": [
    "# add columns we want to remove to a list\n",
    "remove_columns = [\"OBJECTID\",\"VICGRID_X\",\"VICGRID_Y\",\"SRNS\",\"SRNS_ALL\",\"DIVIDED_ALL\",\"DIVIDED\",\"REGION_NAME\",\"LGA_NAME\",\"DEG_URBAN_NAME\",\"RMA_ALL\",\"RMA\",\"NODE_TYPE\",\"NODE_ID\",\"POLICE_ATTEND\",\"ABS_CODE\",\"ACCIDENT_STATUS\",\"UNKNOWN\",\"INJ_OR_FATAL\",\"X\",\"Y\"]"
   ]
  },
  {
   "cell_type": "code",
   "execution_count": 5,
   "metadata": {},
   "outputs": [],
   "source": [
    "# remove unwanted columns\n",
    "crashes = crashes.drop(remove_columns,axis= 1)"
   ]
  },
  {
   "cell_type": "code",
   "execution_count": 6,
   "metadata": {},
   "outputs": [
    {
     "data": {
      "text/plain": [
       "Index(['ACCIDENT_NO', 'ACCIDENT_DATE', 'ACCIDENT_TIME', 'ALCOHOLTIME',\n",
       "       'ACCIDENT_TYPE', 'DAY_OF_WEEK', 'DCA_CODE', 'HIT_RUN_FLAG',\n",
       "       'LIGHT_CONDITION', 'ROAD_GEOMETRY', 'SEVERITY', 'SPEED_ZONE',\n",
       "       'RUN_OFFROAD', 'LONGITUDE', 'LATITUDE', 'TOTAL_PERSONS', 'FATALITY',\n",
       "       'SERIOUSINJURY', 'OTHERINJURY', 'NONINJURED', 'MALES', 'FEMALES',\n",
       "       'BICYCLIST', 'PASSENGER', 'DRIVER', 'PEDESTRIAN', 'PILLION', 'MOTORIST',\n",
       "       'PED_CYCLIST_5_12', 'PED_CYCLIST_13_18', 'OLD_PEDESTRIAN', 'OLD_DRIVER',\n",
       "       'YOUNG_DRIVER', 'ALCOHOL_RELATED', 'UNLICENCSED', 'NO_OF_VEHICLES',\n",
       "       'HEAVYVEHICLE', 'PASSENGERVEHICLE', 'MOTORCYCLE', 'PUBLICVEHICLE',\n",
       "       'DEG_URBAN_ALL', 'LGA_NAME_ALL', 'REGION_NAME_ALL', 'STAT_DIV_NAME'],\n",
       "      dtype='object')"
      ]
     },
     "execution_count": 6,
     "metadata": {},
     "output_type": "execute_result"
    }
   ],
   "source": [
    "# check if columns have been removed\n",
    "crashes.columns"
   ]
  },
  {
   "cell_type": "code",
   "execution_count": 7,
   "metadata": {},
   "outputs": [
    {
     "data": {
      "text/plain": [
       "DAY_OF_WEEK         2899\n",
       "NO_OF_VEHICLES         8\n",
       "HEAVYVEHICLE           8\n",
       "PASSENGERVEHICLE       8\n",
       "MOTORCYCLE             8\n",
       "PUBLICVEHICLE          8\n",
       "REGION_NAME_ALL        1\n",
       "STAT_DIV_NAME          2\n",
       "dtype: int64"
      ]
     },
     "execution_count": 7,
     "metadata": {},
     "output_type": "execute_result"
    }
   ],
   "source": [
    "# check for NA values\n",
    "crashes.isna().sum()[crashes.isna().sum()>0]"
   ]
  },
  {
   "cell_type": "code",
   "execution_count": 8,
   "metadata": {},
   "outputs": [
    {
     "data": {
      "text/plain": [
       "ACCIDENT_NO            0\n",
       "ACCIDENT_DATE          0\n",
       "ACCIDENT_TIME          0\n",
       "ALCOHOLTIME            0\n",
       "ACCIDENT_TYPE          0\n",
       "DAY_OF_WEEK            0\n",
       "DCA_CODE               0\n",
       "HIT_RUN_FLAG           0\n",
       "LIGHT_CONDITION        0\n",
       "ROAD_GEOMETRY          0\n",
       "SEVERITY               0\n",
       "SPEED_ZONE             0\n",
       "RUN_OFFROAD            0\n",
       "LONGITUDE            0.0\n",
       "LATITUDE             0.0\n",
       "TOTAL_PERSONS        0.0\n",
       "FATALITY             0.0\n",
       "SERIOUSINJURY        0.0\n",
       "OTHERINJURY          0.0\n",
       "NONINJURED           0.0\n",
       "MALES                0.0\n",
       "FEMALES              0.0\n",
       "BICYCLIST            0.0\n",
       "PASSENGER            0.0\n",
       "DRIVER               0.0\n",
       "PEDESTRIAN           0.0\n",
       "PILLION              0.0\n",
       "MOTORIST             0.0\n",
       "PED_CYCLIST_5_12     0.0\n",
       "PED_CYCLIST_13_18    0.0\n",
       "OLD_PEDESTRIAN       0.0\n",
       "OLD_DRIVER           0.0\n",
       "YOUNG_DRIVER         0.0\n",
       "ALCOHOL_RELATED        0\n",
       "UNLICENCSED          0.0\n",
       "NO_OF_VEHICLES       0.0\n",
       "HEAVYVEHICLE         0.0\n",
       "PASSENGERVEHICLE     0.0\n",
       "MOTORCYCLE           0.0\n",
       "PUBLICVEHICLE        0.0\n",
       "DEG_URBAN_ALL          0\n",
       "LGA_NAME_ALL           0\n",
       "REGION_NAME_ALL        0\n",
       "STAT_DIV_NAME          0\n",
       "dtype: object"
      ]
     },
     "execution_count": 8,
     "metadata": {},
     "output_type": "execute_result"
    }
   ],
   "source": [
    "# check for blank data\n",
    "crashes[crashes==\" \"].sum()"
   ]
  },
  {
   "cell_type": "code",
   "execution_count": 9,
   "metadata": {},
   "outputs": [
    {
     "data": {
      "text/plain": [
       "T20150013821    1\n",
       "T20190010572    1\n",
       "T20190008283    1\n",
       "T20190008282    1\n",
       "T20190008277    1\n",
       "               ..\n",
       "T20170006132    1\n",
       "T20170006131    1\n",
       "T20170006112    1\n",
       "T20170006096    1\n",
       "T20210020248    1\n",
       "Name: ACCIDENT_NO, Length: 75320, dtype: int64"
      ]
     },
     "execution_count": 9,
     "metadata": {},
     "output_type": "execute_result"
    }
   ],
   "source": [
    "# check for duplicates\n",
    "crashes[\"ACCIDENT_NO\"].value_counts()"
   ]
  },
  {
   "cell_type": "code",
   "execution_count": 10,
   "metadata": {},
   "outputs": [
    {
     "data": {
      "text/plain": [
       "2015/12/09 00:00:00+00    76\n",
       "2016/04/29 00:00:00+00    75\n",
       "2016/03/10 00:00:00+00    75\n",
       "2015/12/04 00:00:00+00    73\n",
       "2017/04/21 00:00:00+00    72\n",
       "                          ..\n",
       "2020/04/18 00:00:00+00    13\n",
       "2020/04/13 00:00:00+00    12\n",
       "2020/04/26 00:00:00+00    11\n",
       "2020/04/14 00:00:00+00    11\n",
       "2020/04/17 00:00:00+00    10\n",
       "Name: ACCIDENT_DATE, Length: 1827, dtype: int64"
      ]
     },
     "execution_count": 10,
     "metadata": {},
     "output_type": "execute_result"
    }
   ],
   "source": [
    "crashes[\"ACCIDENT_DATE\"].value_counts()"
   ]
  },
  {
   "cell_type": "code",
   "execution_count": 11,
   "metadata": {},
   "outputs": [
    {
     "data": {
      "text/plain": [
       "Index(['ACCIDENT_NO', 'ACCIDENT_DATE', 'ACCIDENT_TIME', 'ALCOHOLTIME',\n",
       "       'ACCIDENT_TYPE', 'DAY_OF_WEEK', 'DCA_CODE', 'HIT_RUN_FLAG',\n",
       "       'LIGHT_CONDITION', 'ROAD_GEOMETRY', 'SEVERITY', 'SPEED_ZONE',\n",
       "       'RUN_OFFROAD', 'LONGITUDE', 'LATITUDE', 'TOTAL_PERSONS', 'FATALITY',\n",
       "       'SERIOUSINJURY', 'OTHERINJURY', 'NONINJURED', 'MALES', 'FEMALES',\n",
       "       'BICYCLIST', 'PASSENGER', 'DRIVER', 'PEDESTRIAN', 'PILLION', 'MOTORIST',\n",
       "       'PED_CYCLIST_5_12', 'PED_CYCLIST_13_18', 'OLD_PEDESTRIAN', 'OLD_DRIVER',\n",
       "       'YOUNG_DRIVER', 'ALCOHOL_RELATED', 'UNLICENCSED', 'NO_OF_VEHICLES',\n",
       "       'HEAVYVEHICLE', 'PASSENGERVEHICLE', 'MOTORCYCLE', 'PUBLICVEHICLE',\n",
       "       'DEG_URBAN_ALL', 'LGA_NAME_ALL', 'REGION_NAME_ALL', 'STAT_DIV_NAME'],\n",
       "      dtype='object')"
      ]
     },
     "execution_count": 11,
     "metadata": {},
     "output_type": "execute_result"
    }
   ],
   "source": [
    "crashes.columns"
   ]
  },
  {
   "cell_type": "code",
   "execution_count": 12,
   "metadata": {},
   "outputs": [],
   "source": [
    "#drop all NA's\n",
    "crashes = crashes.dropna(axis = 0)"
   ]
  },
  {
   "cell_type": "code",
   "execution_count": 13,
   "metadata": {},
   "outputs": [
    {
     "data": {
      "text/plain": [
       "ACCIDENT_NO          0\n",
       "ACCIDENT_DATE        0\n",
       "ACCIDENT_TIME        0\n",
       "ALCOHOLTIME          0\n",
       "ACCIDENT_TYPE        0\n",
       "DAY_OF_WEEK          0\n",
       "DCA_CODE             0\n",
       "HIT_RUN_FLAG         0\n",
       "LIGHT_CONDITION      0\n",
       "ROAD_GEOMETRY        0\n",
       "SEVERITY             0\n",
       "SPEED_ZONE           0\n",
       "RUN_OFFROAD          0\n",
       "LONGITUDE            0\n",
       "LATITUDE             0\n",
       "TOTAL_PERSONS        0\n",
       "FATALITY             0\n",
       "SERIOUSINJURY        0\n",
       "OTHERINJURY          0\n",
       "NONINJURED           0\n",
       "MALES                0\n",
       "FEMALES              0\n",
       "BICYCLIST            0\n",
       "PASSENGER            0\n",
       "DRIVER               0\n",
       "PEDESTRIAN           0\n",
       "PILLION              0\n",
       "MOTORIST             0\n",
       "PED_CYCLIST_5_12     0\n",
       "PED_CYCLIST_13_18    0\n",
       "OLD_PEDESTRIAN       0\n",
       "OLD_DRIVER           0\n",
       "YOUNG_DRIVER         0\n",
       "ALCOHOL_RELATED      0\n",
       "UNLICENCSED          0\n",
       "NO_OF_VEHICLES       0\n",
       "HEAVYVEHICLE         0\n",
       "PASSENGERVEHICLE     0\n",
       "MOTORCYCLE           0\n",
       "PUBLICVEHICLE        0\n",
       "DEG_URBAN_ALL        0\n",
       "LGA_NAME_ALL         0\n",
       "REGION_NAME_ALL      0\n",
       "STAT_DIV_NAME        0\n",
       "dtype: int64"
      ]
     },
     "execution_count": 13,
     "metadata": {},
     "output_type": "execute_result"
    }
   ],
   "source": [
    "crashes.isna().sum()"
   ]
  },
  {
   "cell_type": "code",
   "execution_count": 14,
   "metadata": {},
   "outputs": [],
   "source": [
    "# load data\n",
    "lga = pd.read_csv(\"lga.csv\")"
   ]
  },
  {
   "cell_type": "code",
   "execution_count": 15,
   "metadata": {},
   "outputs": [],
   "source": [
    "# find most recent population, and create dataframe with only the columns we need\n",
    "lga = lga.rename(columns= {\"Value\": \"Population Size\"})\n",
    "lga_2018 = lga[lga[\"Time\"]==2018]\n",
    "lga_2018 = lga_2018.iloc[2:,]\n",
    "lga_2018 = lga_2018.iloc[:82-3,]\n",
    "lga_2 = lga_2018[[\"Region\",\"Population Size\"]]"
   ]
  },
  {
   "cell_type": "code",
   "execution_count": 16,
   "metadata": {},
   "outputs": [
    {
     "name": "stderr",
     "output_type": "stream",
     "text": [
      "/Library/Frameworks/Python.framework/Versions/3.9/lib/python3.9/site-packages/pandas/core/frame.py:3636: SettingWithCopyWarning: \n",
      "A value is trying to be set on a copy of a slice from a DataFrame.\n",
      "Try using .loc[row_indexer,col_indexer] = value instead\n",
      "\n",
      "See the caveats in the documentation: https://pandas.pydata.org/pandas-docs/stable/user_guide/indexing.html#returning-a-view-versus-a-copy\n",
      "  self[k1] = value[k2]\n"
     ]
    },
    {
     "data": {
      "text/html": [
       "<div>\n",
       "<style scoped>\n",
       "    .dataframe tbody tr th:only-of-type {\n",
       "        vertical-align: middle;\n",
       "    }\n",
       "\n",
       "    .dataframe tbody tr th {\n",
       "        vertical-align: top;\n",
       "    }\n",
       "\n",
       "    .dataframe thead th {\n",
       "        text-align: right;\n",
       "    }\n",
       "</style>\n",
       "<table border=\"1\" class=\"dataframe\">\n",
       "  <thead>\n",
       "    <tr style=\"text-align: right;\">\n",
       "      <th></th>\n",
       "      <th>Population Size</th>\n",
       "      <th>LGA</th>\n",
       "    </tr>\n",
       "  </thead>\n",
       "  <tbody>\n",
       "    <tr>\n",
       "      <th>0</th>\n",
       "      <td>12730</td>\n",
       "      <td>Alpine</td>\n",
       "    </tr>\n",
       "    <tr>\n",
       "      <th>1</th>\n",
       "      <td>11795</td>\n",
       "      <td>Ararat</td>\n",
       "    </tr>\n",
       "    <tr>\n",
       "      <th>2</th>\n",
       "      <td>107325</td>\n",
       "      <td>Ballarat</td>\n",
       "    </tr>\n",
       "    <tr>\n",
       "      <th>3</th>\n",
       "      <td>130237</td>\n",
       "      <td>Banyule</td>\n",
       "    </tr>\n",
       "    <tr>\n",
       "      <th>4</th>\n",
       "      <td>35327</td>\n",
       "      <td>Bass</td>\n",
       "    </tr>\n",
       "    <tr>\n",
       "      <th>...</th>\n",
       "      <td>...</td>\n",
       "      <td>...</td>\n",
       "    </tr>\n",
       "    <tr>\n",
       "      <th>74</th>\n",
       "      <td>41429</td>\n",
       "      <td>Wodonga</td>\n",
       "    </tr>\n",
       "    <tr>\n",
       "      <th>75</th>\n",
       "      <td>255322</td>\n",
       "      <td>Wyndham</td>\n",
       "    </tr>\n",
       "    <tr>\n",
       "      <th>76</th>\n",
       "      <td>98521</td>\n",
       "      <td>Yarra</td>\n",
       "    </tr>\n",
       "    <tr>\n",
       "      <th>77</th>\n",
       "      <td>158173</td>\n",
       "      <td>Yarra</td>\n",
       "    </tr>\n",
       "    <tr>\n",
       "      <th>78</th>\n",
       "      <td>6658</td>\n",
       "      <td>Yarriambiack</td>\n",
       "    </tr>\n",
       "  </tbody>\n",
       "</table>\n",
       "<p>79 rows × 2 columns</p>\n",
       "</div>"
      ],
      "text/plain": [
       "    Population Size           LGA\n",
       "0             12730        Alpine\n",
       "1             11795        Ararat\n",
       "2            107325      Ballarat\n",
       "3            130237       Banyule\n",
       "4             35327          Bass\n",
       "..              ...           ...\n",
       "74            41429       Wodonga\n",
       "75           255322       Wyndham\n",
       "76            98521         Yarra\n",
       "77           158173         Yarra\n",
       "78             6658  Yarriambiack\n",
       "\n",
       "[79 rows x 2 columns]"
      ]
     },
     "execution_count": 16,
     "metadata": {},
     "output_type": "execute_result"
    }
   ],
   "source": [
    "lga_2[['LGA','letter','value']] = lga_2.Region.str.split(\" \",expand=True,)\n",
    "final_lga = lga_2.drop(['Region','letter','value'],axis=1)\n",
    "final_lga = final_lga.reset_index()\n",
    "final_lga= final_lga.drop(\"index\",axis=1)\n",
    "final_lga"
   ]
  },
  {
   "cell_type": "code",
   "execution_count": 17,
   "metadata": {},
   "outputs": [],
   "source": [
    "# accident table\n",
    "# create accident type id column\n",
    "# crashes[\"ACCIDENT_TYPE_ID\"] = (crashes[\"ACCIDENT_TYPE\"].astype(\"category\").cat.codes+1)"
   ]
  },
  {
   "cell_type": "code",
   "execution_count": 18,
   "metadata": {},
   "outputs": [],
   "source": [
    "# create accident light condition id column\n",
    "crashes[\"LIGHT_CONDITION_ID\"] = (crashes[\"LIGHT_CONDITION\"].astype(\"category\").cat.codes+1)"
   ]
  },
  {
   "cell_type": "code",
   "execution_count": 19,
   "metadata": {},
   "outputs": [],
   "source": [
    "# create SEVERITY_ID column\n",
    "crashes[\"SEVERITY_ID\"] = (crashes[\"SEVERITY\"].astype(\"category\").cat.codes+1)"
   ]
  },
  {
   "cell_type": "code",
   "execution_count": 20,
   "metadata": {},
   "outputs": [],
   "source": [
    "# create ROAD_ID column\n",
    "crashes[\"ROAD_ID\"] = (crashes[\"ROAD_GEOMETRY\"].astype(\"category\").cat.codes+1)"
   ]
  },
  {
   "cell_type": "code",
   "execution_count": 21,
   "metadata": {},
   "outputs": [],
   "source": [
    "# create ROAD_ID column\n",
    "crashes[\"LGA_ID\"] = (crashes[\"LGA_NAME_ALL\"].astype(\"category\").cat.codes+1)"
   ]
  },
  {
   "cell_type": "code",
   "execution_count": 22,
   "metadata": {},
   "outputs": [],
   "source": [
    "#Road Table\n",
    "road = pd.DataFrame(crashes[\"ROAD_GEOMETRY\"].unique())\n",
    "road = road.rename(columns = {0:\"ROAD_GEOMETRY\"})\n",
    "road[\"ROAD_ID\"] = road[\"ROAD_GEOMETRY\"].astype(\"category\").cat.codes+1"
   ]
  },
  {
   "cell_type": "code",
   "execution_count": 23,
   "metadata": {},
   "outputs": [],
   "source": [
    "# ROAD SPEED Table\n",
    "road_speed = pd.DataFrame(crashes[\"SPEED_ZONE\"].unique())\n",
    "road_speed = road_speed.rename(columns = {0:\"ROAD_SPEED\"})\n",
    "road_speed[\"ROAD_ID\"] = crashes[\"ROAD_ID\"]"
   ]
  },
  {
   "cell_type": "code",
   "execution_count": 24,
   "metadata": {},
   "outputs": [],
   "source": [
    "# Accident light condition table\n",
    "accident_light_cond = pd.DataFrame(crashes[\"LIGHT_CONDITION\"].unique())\n",
    "accident_light_cond = accident_light_cond.rename(columns = {0:\"LIGHT_CONDITION\"})\n",
    "accident_light_cond[\"LIGHT_CONDITION_ID\"] = accident_light_cond[\"LIGHT_CONDITION\"].astype(\"category\").cat.codes+1"
   ]
  },
  {
   "cell_type": "code",
   "execution_count": 25,
   "metadata": {},
   "outputs": [],
   "source": [
    "# LGA table\n",
    "LGA = pd.DataFrame(final_lga[\"LGA\"].unique())\n",
    "LGA = LGA.rename(columns = {0:\"LGA\"})\n",
    "LGA[\"LGA_ID\"] = LGA[\"LGA\"].astype(\"category\").cat.codes+1\n"
   ]
  },
  {
   "cell_type": "code",
   "execution_count": 26,
   "metadata": {},
   "outputs": [
    {
     "data": {
      "text/html": [
       "<div>\n",
       "<style scoped>\n",
       "    .dataframe tbody tr th:only-of-type {\n",
       "        vertical-align: middle;\n",
       "    }\n",
       "\n",
       "    .dataframe tbody tr th {\n",
       "        vertical-align: top;\n",
       "    }\n",
       "\n",
       "    .dataframe thead th {\n",
       "        text-align: right;\n",
       "    }\n",
       "</style>\n",
       "<table border=\"1\" class=\"dataframe\">\n",
       "  <thead>\n",
       "    <tr style=\"text-align: right;\">\n",
       "      <th></th>\n",
       "      <th>Population Size</th>\n",
       "      <th>LGA</th>\n",
       "      <th>LGA_ID</th>\n",
       "    </tr>\n",
       "  </thead>\n",
       "  <tbody>\n",
       "    <tr>\n",
       "      <th>0</th>\n",
       "      <td>12730</td>\n",
       "      <td>Alpine</td>\n",
       "      <td>1</td>\n",
       "    </tr>\n",
       "    <tr>\n",
       "      <th>1</th>\n",
       "      <td>11795</td>\n",
       "      <td>Ararat</td>\n",
       "      <td>2</td>\n",
       "    </tr>\n",
       "    <tr>\n",
       "      <th>2</th>\n",
       "      <td>107325</td>\n",
       "      <td>Ballarat</td>\n",
       "      <td>3</td>\n",
       "    </tr>\n",
       "    <tr>\n",
       "      <th>3</th>\n",
       "      <td>130237</td>\n",
       "      <td>Banyule</td>\n",
       "      <td>4</td>\n",
       "    </tr>\n",
       "    <tr>\n",
       "      <th>4</th>\n",
       "      <td>35327</td>\n",
       "      <td>Bass</td>\n",
       "      <td>5</td>\n",
       "    </tr>\n",
       "    <tr>\n",
       "      <th>...</th>\n",
       "      <td>...</td>\n",
       "      <td>...</td>\n",
       "      <td>...</td>\n",
       "    </tr>\n",
       "    <tr>\n",
       "      <th>74</th>\n",
       "      <td>41429</td>\n",
       "      <td>Wodonga</td>\n",
       "      <td>72</td>\n",
       "    </tr>\n",
       "    <tr>\n",
       "      <th>75</th>\n",
       "      <td>255322</td>\n",
       "      <td>Wyndham</td>\n",
       "      <td>73</td>\n",
       "    </tr>\n",
       "    <tr>\n",
       "      <th>76</th>\n",
       "      <td>98521</td>\n",
       "      <td>Yarra</td>\n",
       "      <td>74</td>\n",
       "    </tr>\n",
       "    <tr>\n",
       "      <th>77</th>\n",
       "      <td>158173</td>\n",
       "      <td>Yarra</td>\n",
       "      <td>74</td>\n",
       "    </tr>\n",
       "    <tr>\n",
       "      <th>78</th>\n",
       "      <td>6658</td>\n",
       "      <td>Yarriambiack</td>\n",
       "      <td>75</td>\n",
       "    </tr>\n",
       "  </tbody>\n",
       "</table>\n",
       "<p>79 rows × 3 columns</p>\n",
       "</div>"
      ],
      "text/plain": [
       "    Population Size           LGA  LGA_ID\n",
       "0             12730        Alpine       1\n",
       "1             11795        Ararat       2\n",
       "2            107325      Ballarat       3\n",
       "3            130237       Banyule       4\n",
       "4             35327          Bass       5\n",
       "..              ...           ...     ...\n",
       "74            41429       Wodonga      72\n",
       "75           255322       Wyndham      73\n",
       "76            98521         Yarra      74\n",
       "77           158173         Yarra      74\n",
       "78             6658  Yarriambiack      75\n",
       "\n",
       "[79 rows x 3 columns]"
      ]
     },
     "execution_count": 26,
     "metadata": {},
     "output_type": "execute_result"
    }
   ],
   "source": [
    "# Population table\n",
    "population = pd.DataFrame(final_lga)\n",
    "population[\"LGA_ID\"] = population[\"LGA\"].astype(\"category\").cat.codes+1\n",
    "population"
   ]
  },
  {
   "cell_type": "code",
   "execution_count": 27,
   "metadata": {},
   "outputs": [],
   "source": [
    "# Region table\n",
    "region = pd.DataFrame(crashes[\"REGION_NAME_ALL\"].unique())\n",
    "region = region.rename(columns = {0:\"REGION_NAME\"})\n",
    "region[\"REGION_NAME_ID\"] = region[\"REGION_NAME\"].astype(\"category\").cat.codes+1\n",
    "region[\"DEGREE_URBAN_ID\"] = crashes[\"DEG_URBAN_ALL\"].astype(\"category\").cat.codes+1"
   ]
  },
  {
   "cell_type": "code",
   "execution_count": 28,
   "metadata": {},
   "outputs": [],
   "source": [
    "# Degree_urban\n",
    "urban = pd.DataFrame(crashes[\"DEG_URBAN_ALL\"].unique())\n",
    "urban = urban.rename(columns = {0:\"DEG_URBAN_DESCRIPTION\"})\n",
    "urban[\"DEG_URBAN_ID\"] = urban[\"DEG_URBAN_DESCRIPTION\"].astype(\"category\").cat.codes+1\n",
    "urban[\"STATE_DIV_ID\"] = crashes[\"STAT_DIV_NAME\"].astype(\"category\").cat.codes+1"
   ]
  },
  {
   "cell_type": "code",
   "execution_count": 29,
   "metadata": {},
   "outputs": [],
   "source": [
    "# state div\n",
    "state_div = pd.DataFrame(crashes[\"STAT_DIV_NAME\"].unique())\n",
    "state_div = state_div.rename(columns = {0:\"STAT_DIV_NAME\"})\n",
    "state_div[\"STATE_DIV_ID\"] = state_div[\"STAT_DIV_NAME\"].astype(\"category\").cat.codes+1"
   ]
  },
  {
   "cell_type": "code",
   "execution_count": 44,
   "metadata": {},
   "outputs": [],
   "source": [
    "# accident type\n",
    "accident_type = pd.DataFrame(crashes[\"ACCIDENT_TYPE\"].unique())\n",
    "accident_type = accident_type.rename(columns = {0:\"ACCIDENT_TYPE\"})\n",
    "accident_type[\"ACCIDENT_TYPE_ID\"] = accident_type[\"ACCIDENT_TYPE\"].astype(\"category\").cat.codes+1"
   ]
  },
  {
   "cell_type": "code",
   "execution_count": null,
   "metadata": {},
   "outputs": [],
   "source": [
    "# accident severity\n",
    "wanted_columns = [\"FATALITY\",\"SERIOUSINJURY\",\"\"]\n",
    "people_involved =crashes[]"
   ]
  },
  {
   "cell_type": "code",
   "execution_count": 32,
   "metadata": {},
   "outputs": [
    {
     "data": {
      "text/plain": [
       "Index(['ACCIDENT_NO', 'ACCIDENT_DATE', 'ACCIDENT_TIME', 'ALCOHOLTIME',\n",
       "       'ACCIDENT_TYPE', 'DAY_OF_WEEK', 'DCA_CODE', 'HIT_RUN_FLAG',\n",
       "       'LIGHT_CONDITION', 'ROAD_GEOMETRY', 'SEVERITY', 'SPEED_ZONE',\n",
       "       'RUN_OFFROAD', 'LONGITUDE', 'LATITUDE', 'TOTAL_PERSONS', 'FATALITY',\n",
       "       'SERIOUSINJURY', 'OTHERINJURY', 'NONINJURED', 'MALES', 'FEMALES',\n",
       "       'BICYCLIST', 'PASSENGER', 'DRIVER', 'PEDESTRIAN', 'PILLION', 'MOTORIST',\n",
       "       'PED_CYCLIST_5_12', 'PED_CYCLIST_13_18', 'OLD_PEDESTRIAN', 'OLD_DRIVER',\n",
       "       'YOUNG_DRIVER', 'ALCOHOL_RELATED', 'UNLICENCSED', 'NO_OF_VEHICLES',\n",
       "       'HEAVYVEHICLE', 'PASSENGERVEHICLE', 'MOTORCYCLE', 'PUBLICVEHICLE',\n",
       "       'DEG_URBAN_ALL', 'LGA_NAME_ALL', 'REGION_NAME_ALL', 'STAT_DIV_NAME',\n",
       "       'LIGHT_CONDITION_ID', 'SEVERITY_ID', 'ROAD_ID', 'LGA_ID'],\n",
       "      dtype='object')"
      ]
     },
     "execution_count": 32,
     "metadata": {},
     "output_type": "execute_result"
    }
   ],
   "source": [
    "crashes.columns"
   ]
  },
  {
   "cell_type": "code",
   "execution_count": 33,
   "metadata": {},
   "outputs": [
    {
     "data": {
      "text/plain": [
       "Index(['Population Size', 'LGA', 'LGA_ID'], dtype='object')"
      ]
     },
     "execution_count": 33,
     "metadata": {},
     "output_type": "execute_result"
    }
   ],
   "source": [
    "final_lga.columns"
   ]
  },
  {
   "cell_type": "code",
   "execution_count": null,
   "metadata": {},
   "outputs": [],
   "source": []
  },
  {
   "cell_type": "code",
   "execution_count": null,
   "metadata": {},
   "outputs": [],
   "source": []
  }
 ],
 "metadata": {
  "interpreter": {
   "hash": "aee8b7b246df8f9039afb4144a1f6fd8d2ca17a180786b69acc140d282b71a49"
  },
  "kernelspec": {
   "display_name": "Python 3.9.5 64-bit",
   "name": "python3"
  },
  "language_info": {
   "codemirror_mode": {
    "name": "ipython",
    "version": 3
   },
   "file_extension": ".py",
   "mimetype": "text/x-python",
   "name": "python",
   "nbconvert_exporter": "python",
   "pygments_lexer": "ipython3",
   "version": "3.9.5"
  },
  "orig_nbformat": 4
 },
 "nbformat": 4,
 "nbformat_minor": 2
}
