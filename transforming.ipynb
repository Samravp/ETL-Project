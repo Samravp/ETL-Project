{
 "cells": [
  {
   "cell_type": "code",
   "execution_count": 1,
   "metadata": {},
   "outputs": [],
   "source": [
    "import pandas as pd"
   ]
  },
  {
   "cell_type": "code",
   "execution_count": 2,
   "metadata": {},
   "outputs": [],
   "source": [
    "crashes = pd.read_csv(\"crashes.csv\")"
   ]
  },
  {
   "cell_type": "code",
   "execution_count": 3,
   "metadata": {},
   "outputs": [
    {
     "data": {
      "text/plain": [
       "Index(['X', 'Y', 'OBJECTID', 'ACCIDENT_NO', 'ABS_CODE', 'ACCIDENT_STATUS',\n",
       "       'ACCIDENT_DATE', 'ACCIDENT_TIME', 'ALCOHOLTIME', 'ACCIDENT_TYPE',\n",
       "       'DAY_OF_WEEK', 'DCA_CODE', 'HIT_RUN_FLAG', 'LIGHT_CONDITION',\n",
       "       'POLICE_ATTEND', 'ROAD_GEOMETRY', 'SEVERITY', 'SPEED_ZONE',\n",
       "       'RUN_OFFROAD', 'NODE_ID', 'LONGITUDE', 'LATITUDE', 'NODE_TYPE',\n",
       "       'LGA_NAME', 'REGION_NAME', 'VICGRID_X', 'VICGRID_Y', 'TOTAL_PERSONS',\n",
       "       'INJ_OR_FATAL', 'FATALITY', 'SERIOUSINJURY', 'OTHERINJURY',\n",
       "       'NONINJURED', 'MALES', 'FEMALES', 'BICYCLIST', 'PASSENGER', 'DRIVER',\n",
       "       'PEDESTRIAN', 'PILLION', 'MOTORIST', 'UNKNOWN', 'PED_CYCLIST_5_12',\n",
       "       'PED_CYCLIST_13_18', 'OLD_PEDESTRIAN', 'OLD_DRIVER', 'YOUNG_DRIVER',\n",
       "       'ALCOHOL_RELATED', 'UNLICENCSED', 'NO_OF_VEHICLES', 'HEAVYVEHICLE',\n",
       "       'PASSENGERVEHICLE', 'MOTORCYCLE', 'PUBLICVEHICLE', 'DEG_URBAN_NAME',\n",
       "       'DEG_URBAN_ALL', 'LGA_NAME_ALL', 'REGION_NAME_ALL', 'SRNS', 'SRNS_ALL',\n",
       "       'RMA', 'RMA_ALL', 'DIVIDED', 'DIVIDED_ALL', 'STAT_DIV_NAME'],\n",
       "      dtype='object')"
      ]
     },
     "execution_count": 3,
     "metadata": {},
     "output_type": "execute_result"
    }
   ],
   "source": [
    "crashes.columns"
   ]
  },
  {
   "cell_type": "markdown",
   "metadata": {},
   "source": [
    "## Find which columns we want to remove"
   ]
  },
  {
   "cell_type": "code",
   "execution_count": 4,
   "metadata": {},
   "outputs": [],
   "source": [
    "remove_columns = [\"OBJECTID\",\"VICGRID_X\",\"VICGRID_Y\",\"SRNS\",\"SRNS_ALL\",\"DIVIDED_ALL\",\"DIVIDED\",\"REGION_NAME\",\"LGA_NAME\",\"DEG_URBAN_NAME\",\"RMA_ALL\",\"RMA\",\"NODE_TYPE\",\"NODE_ID\",\"POLICE_ATTEND\",\"ABS_CODE\",\"ACCIDENT_STATUS\",\"UNKNOWN\",\"X\",\"Y\"]"
   ]
  },
  {
   "cell_type": "code",
   "execution_count": 5,
   "metadata": {},
   "outputs": [],
   "source": [
    "crashes = crashes.drop(remove_columns,axis= 1)"
   ]
  },
  {
   "cell_type": "code",
   "execution_count": 6,
   "metadata": {},
   "outputs": [
    {
     "data": {
      "text/plain": [
       "Index(['ACCIDENT_NO', 'ACCIDENT_DATE', 'ACCIDENT_TIME', 'ALCOHOLTIME',\n",
       "       'ACCIDENT_TYPE', 'DAY_OF_WEEK', 'DCA_CODE', 'HIT_RUN_FLAG',\n",
       "       'LIGHT_CONDITION', 'ROAD_GEOMETRY', 'SEVERITY', 'SPEED_ZONE',\n",
       "       'RUN_OFFROAD', 'LONGITUDE', 'LATITUDE', 'TOTAL_PERSONS', 'INJ_OR_FATAL',\n",
       "       'FATALITY', 'SERIOUSINJURY', 'OTHERINJURY', 'NONINJURED', 'MALES',\n",
       "       'FEMALES', 'BICYCLIST', 'PASSENGER', 'DRIVER', 'PEDESTRIAN', 'PILLION',\n",
       "       'MOTORIST', 'PED_CYCLIST_5_12', 'PED_CYCLIST_13_18', 'OLD_PEDESTRIAN',\n",
       "       'OLD_DRIVER', 'YOUNG_DRIVER', 'ALCOHOL_RELATED', 'UNLICENCSED',\n",
       "       'NO_OF_VEHICLES', 'HEAVYVEHICLE', 'PASSENGERVEHICLE', 'MOTORCYCLE',\n",
       "       'PUBLICVEHICLE', 'DEG_URBAN_ALL', 'LGA_NAME_ALL', 'REGION_NAME_ALL',\n",
       "       'STAT_DIV_NAME'],\n",
       "      dtype='object')"
      ]
     },
     "execution_count": 6,
     "metadata": {},
     "output_type": "execute_result"
    }
   ],
   "source": [
    "crashes.columns"
   ]
  },
  {
   "cell_type": "markdown",
   "metadata": {},
   "source": [
    "## Check for NA and blank values"
   ]
  },
  {
   "cell_type": "code",
   "execution_count": 7,
   "metadata": {},
   "outputs": [
    {
     "data": {
      "text/plain": [
       "DAY_OF_WEEK         2899\n",
       "NO_OF_VEHICLES         8\n",
       "HEAVYVEHICLE           8\n",
       "PASSENGERVEHICLE       8\n",
       "MOTORCYCLE             8\n",
       "PUBLICVEHICLE          8\n",
       "REGION_NAME_ALL        1\n",
       "STAT_DIV_NAME          2\n",
       "dtype: int64"
      ]
     },
     "execution_count": 7,
     "metadata": {},
     "output_type": "execute_result"
    }
   ],
   "source": [
    "crashes.isna().sum()[crashes.isna().sum()>0]"
   ]
  },
  {
   "cell_type": "markdown",
   "metadata": {},
   "source": [
    "## Remove NA values with small counts\n",
    "## Find the day of the week the accident occurred on from the date and replace the NA values"
   ]
  },
  {
   "cell_type": "code",
   "execution_count": 8,
   "metadata": {},
   "outputs": [
    {
     "data": {
      "text/plain": [
       "ACCIDENT_NO            0\n",
       "ACCIDENT_DATE          0\n",
       "ACCIDENT_TIME          0\n",
       "ALCOHOLTIME            0\n",
       "ACCIDENT_TYPE          0\n",
       "DAY_OF_WEEK            0\n",
       "DCA_CODE               0\n",
       "HIT_RUN_FLAG           0\n",
       "LIGHT_CONDITION        0\n",
       "ROAD_GEOMETRY          0\n",
       "SEVERITY               0\n",
       "SPEED_ZONE             0\n",
       "RUN_OFFROAD            0\n",
       "LONGITUDE            0.0\n",
       "LATITUDE             0.0\n",
       "TOTAL_PERSONS        0.0\n",
       "INJ_OR_FATAL         0.0\n",
       "FATALITY             0.0\n",
       "SERIOUSINJURY        0.0\n",
       "OTHERINJURY          0.0\n",
       "NONINJURED           0.0\n",
       "MALES                0.0\n",
       "FEMALES              0.0\n",
       "BICYCLIST            0.0\n",
       "PASSENGER            0.0\n",
       "DRIVER               0.0\n",
       "PEDESTRIAN           0.0\n",
       "PILLION              0.0\n",
       "MOTORIST             0.0\n",
       "PED_CYCLIST_5_12     0.0\n",
       "PED_CYCLIST_13_18    0.0\n",
       "OLD_PEDESTRIAN       0.0\n",
       "OLD_DRIVER           0.0\n",
       "YOUNG_DRIVER         0.0\n",
       "ALCOHOL_RELATED        0\n",
       "UNLICENCSED          0.0\n",
       "NO_OF_VEHICLES       0.0\n",
       "HEAVYVEHICLE         0.0\n",
       "PASSENGERVEHICLE     0.0\n",
       "MOTORCYCLE           0.0\n",
       "PUBLICVEHICLE        0.0\n",
       "DEG_URBAN_ALL          0\n",
       "LGA_NAME_ALL           0\n",
       "REGION_NAME_ALL        0\n",
       "STAT_DIV_NAME          0\n",
       "dtype: object"
      ]
     },
     "execution_count": 8,
     "metadata": {},
     "output_type": "execute_result"
    }
   ],
   "source": [
    "crashes[crashes==\" \"].sum()"
   ]
  },
  {
   "cell_type": "markdown",
   "metadata": {},
   "source": [
    "## Check for duplicates"
   ]
  },
  {
   "cell_type": "code",
   "execution_count": 9,
   "metadata": {},
   "outputs": [
    {
     "data": {
      "text/plain": [
       "T20150013821    1\n",
       "T20190010572    1\n",
       "T20190008283    1\n",
       "T20190008282    1\n",
       "T20190008277    1\n",
       "               ..\n",
       "T20170006132    1\n",
       "T20170006131    1\n",
       "T20170006112    1\n",
       "T20170006096    1\n",
       "T20210020248    1\n",
       "Name: ACCIDENT_NO, Length: 75320, dtype: int64"
      ]
     },
     "execution_count": 9,
     "metadata": {},
     "output_type": "execute_result"
    }
   ],
   "source": [
    "a = crashes[\"ACCIDENT_NO\"].value_counts()\n",
    "crashes[\"ACCIDENT_NO\"].value_counts()"
   ]
  },
  {
   "cell_type": "markdown",
   "metadata": {},
   "source": [
    "## No duplicates"
   ]
  },
  {
   "cell_type": "code",
   "execution_count": 10,
   "metadata": {},
   "outputs": [],
   "source": [
    "## Accidents, Injury counts, location, driver info, vehicle type"
   ]
  },
  {
   "cell_type": "code",
   "execution_count": 11,
   "metadata": {},
   "outputs": [],
   "source": [
    "fatal = pd.read_csv(\"TYPICAL_HOURLY_VOLUME_DATA.csv\")"
   ]
  },
  {
   "cell_type": "code",
   "execution_count": 12,
   "metadata": {},
   "outputs": [
    {
     "data": {
      "text/plain": [
       "Index(['X', 'Y', 'OBJECTID', 'ACCIDENT_N', 'ACCIDENT_D', 'ACC_TIME',\n",
       "       'NO_VEHICLE', 'ACCIDENT_T', 'ACC_T_DESC', 'ABS_CODE', 'PERSON_ID',\n",
       "       'AGE', 'RD_USER_T', 'RD_U_DESC', 'SEX', 'LOCATION_D', 'NODE_ID',\n",
       "       'LOCATION_T', 'NODE_TYPE', 'N_TYPE_DES', 'ROAD_ROUTE', 'RD_NAME_1',\n",
       "       'RD_TYPE_1', 'RD_NAME_2', 'RD_TYPE_2', 'DEC_RD_DES', 'LGA_NAME',\n",
       "       'REGION_NAM', 'STAT_DIV_N', 'AMG_X', 'AMG_Y'],\n",
       "      dtype='object')"
      ]
     },
     "execution_count": 12,
     "metadata": {},
     "output_type": "execute_result"
    }
   ],
   "source": [
    "fatal = pd.read_csv(\"Fatal_Crashes_-_Lives_Lost%2C_Last_5_Years_to_Date.csv\")\n",
    "fatal.columns"
   ]
  },
  {
   "cell_type": "code",
   "execution_count": 13,
   "metadata": {},
   "outputs": [],
   "source": [
    "remove_columns2 = [\"X\",\"Y\",\"RD_NAME_1\",\"OBJECTID\",\"ACCIDENT_T\"]"
   ]
  },
  {
   "cell_type": "code",
   "execution_count": 14,
   "metadata": {},
   "outputs": [
    {
     "data": {
      "text/plain": [
       "Collision with vehicle               589\n",
       "Collision with a fixed object        402\n",
       "Struck Pedestrian                    173\n",
       "Vehicle overturned (no collision)     37\n",
       "Collision with some other object      25\n",
       "Fall from or in moving vehicle        17\n",
       "No collision and no object struck     13\n",
       "Struck animal                          6\n",
       "Other accident                         2\n",
       "Name: ACC_T_DESC, dtype: int64"
      ]
     },
     "execution_count": 14,
     "metadata": {},
     "output_type": "execute_result"
    }
   ],
   "source": [
    "fatal[\"ACC_T_DESC\"].value_counts()"
   ]
  },
  {
   "cell_type": "code",
   "execution_count": 15,
   "metadata": {},
   "outputs": [
    {
     "data": {
      "text/plain": [
       "2015/12/09 00:00:00+00    76\n",
       "2016/04/29 00:00:00+00    75\n",
       "2016/03/10 00:00:00+00    75\n",
       "2015/12/04 00:00:00+00    73\n",
       "2017/04/21 00:00:00+00    72\n",
       "                          ..\n",
       "2020/04/18 00:00:00+00    13\n",
       "2020/04/13 00:00:00+00    12\n",
       "2020/04/26 00:00:00+00    11\n",
       "2020/04/14 00:00:00+00    11\n",
       "2020/04/17 00:00:00+00    10\n",
       "Name: ACCIDENT_DATE, Length: 1827, dtype: int64"
      ]
     },
     "execution_count": 15,
     "metadata": {},
     "output_type": "execute_result"
    }
   ],
   "source": [
    "crashes[\"ACCIDENT_DATE\"].value_counts()"
   ]
  },
  {
   "cell_type": "code",
   "execution_count": 16,
   "metadata": {},
   "outputs": [],
   "source": [
    "# crashes[crashes[\"ACCIDENT_DATE\" == \"01/01/2019\"]]"
   ]
  },
  {
   "cell_type": "code",
   "execution_count": 17,
   "metadata": {},
   "outputs": [
    {
     "data": {
      "text/html": [
       "<div>\n",
       "<style scoped>\n",
       "    .dataframe tbody tr th:only-of-type {\n",
       "        vertical-align: middle;\n",
       "    }\n",
       "\n",
       "    .dataframe tbody tr th {\n",
       "        vertical-align: top;\n",
       "    }\n",
       "\n",
       "    .dataframe thead th {\n",
       "        text-align: right;\n",
       "    }\n",
       "</style>\n",
       "<table border=\"1\" class=\"dataframe\">\n",
       "  <thead>\n",
       "    <tr style=\"text-align: right;\">\n",
       "      <th></th>\n",
       "      <th>ACCIDENT_NO</th>\n",
       "      <th>ACCIDENT_DATE</th>\n",
       "      <th>ACCIDENT_TIME</th>\n",
       "      <th>ALCOHOLTIME</th>\n",
       "      <th>ACCIDENT_TYPE</th>\n",
       "      <th>DAY_OF_WEEK</th>\n",
       "      <th>DCA_CODE</th>\n",
       "      <th>HIT_RUN_FLAG</th>\n",
       "      <th>LIGHT_CONDITION</th>\n",
       "      <th>ROAD_GEOMETRY</th>\n",
       "      <th>...</th>\n",
       "      <th>UNLICENCSED</th>\n",
       "      <th>NO_OF_VEHICLES</th>\n",
       "      <th>HEAVYVEHICLE</th>\n",
       "      <th>PASSENGERVEHICLE</th>\n",
       "      <th>MOTORCYCLE</th>\n",
       "      <th>PUBLICVEHICLE</th>\n",
       "      <th>DEG_URBAN_ALL</th>\n",
       "      <th>LGA_NAME_ALL</th>\n",
       "      <th>REGION_NAME_ALL</th>\n",
       "      <th>STAT_DIV_NAME</th>\n",
       "    </tr>\n",
       "  </thead>\n",
       "  <tbody>\n",
       "    <tr>\n",
       "      <th>62389</th>\n",
       "      <td>T20200012654</td>\n",
       "      <td>2020/06/30 00:00:00+00</td>\n",
       "      <td>1899/12/30 19:35:00+00</td>\n",
       "      <td>Yes</td>\n",
       "      <td>Struck Pedestrian</td>\n",
       "      <td>Tuesday</td>\n",
       "      <td>PED PLAYING/LYING/WORKING/STANDING ON CARRIAGE...</td>\n",
       "      <td>No</td>\n",
       "      <td>Dark No street lights</td>\n",
       "      <td>Not at intersection</td>\n",
       "      <td>...</td>\n",
       "      <td>0</td>\n",
       "      <td>1.0</td>\n",
       "      <td>0.0</td>\n",
       "      <td>1.0</td>\n",
       "      <td>0.0</td>\n",
       "      <td>0.0</td>\n",
       "      <td>RURAL_VICTORIA</td>\n",
       "      <td>GEELONG</td>\n",
       "      <td>SOUTH WESTERN REGION</td>\n",
       "      <td>Country</td>\n",
       "    </tr>\n",
       "    <tr>\n",
       "      <th>62437</th>\n",
       "      <td>T20200013030</td>\n",
       "      <td>2020/06/30 00:00:00+00</td>\n",
       "      <td>1899/12/30 14:30:00+00</td>\n",
       "      <td>No</td>\n",
       "      <td>Collision with vehicle</td>\n",
       "      <td>Monday</td>\n",
       "      <td>LEFT REAR</td>\n",
       "      <td>No</td>\n",
       "      <td>Day</td>\n",
       "      <td>Cross intersection</td>\n",
       "      <td>...</td>\n",
       "      <td>0</td>\n",
       "      <td>2.0</td>\n",
       "      <td>0.0</td>\n",
       "      <td>2.0</td>\n",
       "      <td>0.0</td>\n",
       "      <td>0.0</td>\n",
       "      <td>MELB_URBAN</td>\n",
       "      <td>DANDENONG,MONASH</td>\n",
       "      <td>METROPOLITAN SOUTH EAST REGION</td>\n",
       "      <td>Metro</td>\n",
       "    </tr>\n",
       "    <tr>\n",
       "      <th>75272</th>\n",
       "      <td>T20200013131</td>\n",
       "      <td>2020/06/30 00:00:00+00</td>\n",
       "      <td>1899/12/30 07:30:00+00</td>\n",
       "      <td>No</td>\n",
       "      <td>collision with some other object</td>\n",
       "      <td>Tuesday</td>\n",
       "      <td>LEFT OFF CARRIAGEWAY INTO OBJECT/PARKED VEHICLE</td>\n",
       "      <td>No</td>\n",
       "      <td>Day</td>\n",
       "      <td>Not at intersection</td>\n",
       "      <td>...</td>\n",
       "      <td>0</td>\n",
       "      <td>2.0</td>\n",
       "      <td>0.0</td>\n",
       "      <td>2.0</td>\n",
       "      <td>0.0</td>\n",
       "      <td>0.0</td>\n",
       "      <td>MELB_URBAN</td>\n",
       "      <td>KNOX</td>\n",
       "      <td>METROPOLITAN SOUTH EAST REGION</td>\n",
       "      <td>Metro</td>\n",
       "    </tr>\n",
       "    <tr>\n",
       "      <th>75271</th>\n",
       "      <td>T20200012988</td>\n",
       "      <td>2020/06/30 00:00:00+00</td>\n",
       "      <td>1899/12/30 04:45:00+00</td>\n",
       "      <td>Yes</td>\n",
       "      <td>Collision with a fixed object</td>\n",
       "      <td>Monday</td>\n",
       "      <td>OFF LEFT BEND INTO OBJECT/PARKED VEHICLE</td>\n",
       "      <td>No</td>\n",
       "      <td>Dark No street lights</td>\n",
       "      <td>Not at intersection</td>\n",
       "      <td>...</td>\n",
       "      <td>0</td>\n",
       "      <td>1.0</td>\n",
       "      <td>0.0</td>\n",
       "      <td>1.0</td>\n",
       "      <td>0.0</td>\n",
       "      <td>0.0</td>\n",
       "      <td>RURAL_VICTORIA</td>\n",
       "      <td>COLAC OTWAY</td>\n",
       "      <td>SOUTH WESTERN REGION</td>\n",
       "      <td>Country</td>\n",
       "    </tr>\n",
       "    <tr>\n",
       "      <th>65611</th>\n",
       "      <td>T20200012922</td>\n",
       "      <td>2020/06/30 00:00:00+00</td>\n",
       "      <td>1899/12/30 17:15:00+00</td>\n",
       "      <td>No</td>\n",
       "      <td>Collision with vehicle</td>\n",
       "      <td>Tuesday</td>\n",
       "      <td>RIGHT NEAR (INTERSECTIONS ONLY)</td>\n",
       "      <td>No</td>\n",
       "      <td>Dark Street lights on</td>\n",
       "      <td>T intersection</td>\n",
       "      <td>...</td>\n",
       "      <td>0</td>\n",
       "      <td>2.0</td>\n",
       "      <td>0.0</td>\n",
       "      <td>2.0</td>\n",
       "      <td>0.0</td>\n",
       "      <td>0.0</td>\n",
       "      <td>MELB_URBAN</td>\n",
       "      <td>MONASH</td>\n",
       "      <td>METROPOLITAN SOUTH EAST REGION</td>\n",
       "      <td>Metro</td>\n",
       "    </tr>\n",
       "    <tr>\n",
       "      <th>...</th>\n",
       "      <td>...</td>\n",
       "      <td>...</td>\n",
       "      <td>...</td>\n",
       "      <td>...</td>\n",
       "      <td>...</td>\n",
       "      <td>...</td>\n",
       "      <td>...</td>\n",
       "      <td>...</td>\n",
       "      <td>...</td>\n",
       "      <td>...</td>\n",
       "      <td>...</td>\n",
       "      <td>...</td>\n",
       "      <td>...</td>\n",
       "      <td>...</td>\n",
       "      <td>...</td>\n",
       "      <td>...</td>\n",
       "      <td>...</td>\n",
       "      <td>...</td>\n",
       "      <td>...</td>\n",
       "      <td>...</td>\n",
       "      <td>...</td>\n",
       "    </tr>\n",
       "    <tr>\n",
       "      <th>34</th>\n",
       "      <td>T20150013885</td>\n",
       "      <td>2015/07/01 00:00:00+00</td>\n",
       "      <td>1899/12/30 06:40:00+00</td>\n",
       "      <td>No</td>\n",
       "      <td>Collision with vehicle</td>\n",
       "      <td>Wednesday</td>\n",
       "      <td>REAR END(VEHICLES IN SAME LANE)</td>\n",
       "      <td>Yes</td>\n",
       "      <td>Dark No street lights</td>\n",
       "      <td>Not at intersection</td>\n",
       "      <td>...</td>\n",
       "      <td>0</td>\n",
       "      <td>3.0</td>\n",
       "      <td>1.0</td>\n",
       "      <td>1.0</td>\n",
       "      <td>0.0</td>\n",
       "      <td>0.0</td>\n",
       "      <td>RURAL_VICTORIA</td>\n",
       "      <td>ARARAT</td>\n",
       "      <td>WESTERN REGION</td>\n",
       "      <td>Country</td>\n",
       "    </tr>\n",
       "    <tr>\n",
       "      <th>33</th>\n",
       "      <td>T20150013865</td>\n",
       "      <td>2015/07/01 00:00:00+00</td>\n",
       "      <td>1899/12/30 18:35:00+00</td>\n",
       "      <td>Yes</td>\n",
       "      <td>Collision with vehicle</td>\n",
       "      <td>Tuesday</td>\n",
       "      <td>VEHICLE STRIKES ANOTHER VEH WHILE EMERGING FRO...</td>\n",
       "      <td>No</td>\n",
       "      <td>Dark Street lights on</td>\n",
       "      <td>T intersection</td>\n",
       "      <td>...</td>\n",
       "      <td>0</td>\n",
       "      <td>2.0</td>\n",
       "      <td>0.0</td>\n",
       "      <td>2.0</td>\n",
       "      <td>0.0</td>\n",
       "      <td>0.0</td>\n",
       "      <td>MELB_URBAN</td>\n",
       "      <td>WHITEHORSE</td>\n",
       "      <td>METROPOLITAN SOUTH EAST REGION</td>\n",
       "      <td>Metro</td>\n",
       "    </tr>\n",
       "    <tr>\n",
       "      <th>32</th>\n",
       "      <td>T20150013854</td>\n",
       "      <td>2015/07/01 00:00:00+00</td>\n",
       "      <td>1899/12/30 13:40:00+00</td>\n",
       "      <td>No</td>\n",
       "      <td>Collision with vehicle</td>\n",
       "      <td>Tuesday</td>\n",
       "      <td>CROSS TRAFFIC(INTERSECTIONS ONLY)</td>\n",
       "      <td>No</td>\n",
       "      <td>Day</td>\n",
       "      <td>Cross intersection</td>\n",
       "      <td>...</td>\n",
       "      <td>0</td>\n",
       "      <td>2.0</td>\n",
       "      <td>0.0</td>\n",
       "      <td>2.0</td>\n",
       "      <td>0.0</td>\n",
       "      <td>0.0</td>\n",
       "      <td>MELB_URBAN</td>\n",
       "      <td>MARIBYRNONG</td>\n",
       "      <td>METROPOLITAN NORTH WEST REGION</td>\n",
       "      <td>Metro</td>\n",
       "    </tr>\n",
       "    <tr>\n",
       "      <th>31</th>\n",
       "      <td>T20150013844</td>\n",
       "      <td>2015/07/01 00:00:00+00</td>\n",
       "      <td>1899/12/30 11:30:00+00</td>\n",
       "      <td>No</td>\n",
       "      <td>Collision with a fixed object</td>\n",
       "      <td>Wednesday</td>\n",
       "      <td>LEFT OFF CARRIAGEWAY INTO OBJECT/PARKED VEHICLE</td>\n",
       "      <td>No</td>\n",
       "      <td>Day</td>\n",
       "      <td>Cross intersection</td>\n",
       "      <td>...</td>\n",
       "      <td>0</td>\n",
       "      <td>1.0</td>\n",
       "      <td>0.0</td>\n",
       "      <td>0.0</td>\n",
       "      <td>1.0</td>\n",
       "      <td>0.0</td>\n",
       "      <td>MELB_URBAN</td>\n",
       "      <td>WHITTLESEA</td>\n",
       "      <td>METROPOLITAN NORTH WEST REGION</td>\n",
       "      <td>Metro</td>\n",
       "    </tr>\n",
       "    <tr>\n",
       "      <th>0</th>\n",
       "      <td>T20150013821</td>\n",
       "      <td>2015/07/01 00:00:00+00</td>\n",
       "      <td>1899/12/30 07:00:00+00</td>\n",
       "      <td>No</td>\n",
       "      <td>Collision with vehicle</td>\n",
       "      <td>Wednesday</td>\n",
       "      <td>REAR END(VEHICLES IN SAME LANE)</td>\n",
       "      <td>No</td>\n",
       "      <td>Dusk/Dawn</td>\n",
       "      <td>Not at intersection</td>\n",
       "      <td>...</td>\n",
       "      <td>0</td>\n",
       "      <td>4.0</td>\n",
       "      <td>0.0</td>\n",
       "      <td>4.0</td>\n",
       "      <td>0.0</td>\n",
       "      <td>0.0</td>\n",
       "      <td>MELB_URBAN</td>\n",
       "      <td>CASEY</td>\n",
       "      <td>METROPOLITAN SOUTH EAST REGION</td>\n",
       "      <td>Metro</td>\n",
       "    </tr>\n",
       "  </tbody>\n",
       "</table>\n",
       "<p>75320 rows × 45 columns</p>\n",
       "</div>"
      ],
      "text/plain": [
       "        ACCIDENT_NO           ACCIDENT_DATE           ACCIDENT_TIME  \\\n",
       "62389  T20200012654  2020/06/30 00:00:00+00  1899/12/30 19:35:00+00   \n",
       "62437  T20200013030  2020/06/30 00:00:00+00  1899/12/30 14:30:00+00   \n",
       "75272  T20200013131  2020/06/30 00:00:00+00  1899/12/30 07:30:00+00   \n",
       "75271  T20200012988  2020/06/30 00:00:00+00  1899/12/30 04:45:00+00   \n",
       "65611  T20200012922  2020/06/30 00:00:00+00  1899/12/30 17:15:00+00   \n",
       "...             ...                     ...                     ...   \n",
       "34     T20150013885  2015/07/01 00:00:00+00  1899/12/30 06:40:00+00   \n",
       "33     T20150013865  2015/07/01 00:00:00+00  1899/12/30 18:35:00+00   \n",
       "32     T20150013854  2015/07/01 00:00:00+00  1899/12/30 13:40:00+00   \n",
       "31     T20150013844  2015/07/01 00:00:00+00  1899/12/30 11:30:00+00   \n",
       "0      T20150013821  2015/07/01 00:00:00+00  1899/12/30 07:00:00+00   \n",
       "\n",
       "      ALCOHOLTIME                     ACCIDENT_TYPE DAY_OF_WEEK  \\\n",
       "62389         Yes                 Struck Pedestrian     Tuesday   \n",
       "62437          No            Collision with vehicle      Monday   \n",
       "75272          No  collision with some other object     Tuesday   \n",
       "75271         Yes     Collision with a fixed object      Monday   \n",
       "65611          No            Collision with vehicle     Tuesday   \n",
       "...           ...                               ...         ...   \n",
       "34             No            Collision with vehicle   Wednesday   \n",
       "33            Yes            Collision with vehicle     Tuesday   \n",
       "32             No            Collision with vehicle     Tuesday   \n",
       "31             No     Collision with a fixed object   Wednesday   \n",
       "0              No            Collision with vehicle   Wednesday   \n",
       "\n",
       "                                                DCA_CODE HIT_RUN_FLAG  \\\n",
       "62389  PED PLAYING/LYING/WORKING/STANDING ON CARRIAGE...           No   \n",
       "62437                                          LEFT REAR           No   \n",
       "75272    LEFT OFF CARRIAGEWAY INTO OBJECT/PARKED VEHICLE           No   \n",
       "75271           OFF LEFT BEND INTO OBJECT/PARKED VEHICLE           No   \n",
       "65611                    RIGHT NEAR (INTERSECTIONS ONLY)           No   \n",
       "...                                                  ...          ...   \n",
       "34                       REAR END(VEHICLES IN SAME LANE)          Yes   \n",
       "33     VEHICLE STRIKES ANOTHER VEH WHILE EMERGING FRO...           No   \n",
       "32                     CROSS TRAFFIC(INTERSECTIONS ONLY)           No   \n",
       "31       LEFT OFF CARRIAGEWAY INTO OBJECT/PARKED VEHICLE           No   \n",
       "0                        REAR END(VEHICLES IN SAME LANE)           No   \n",
       "\n",
       "             LIGHT_CONDITION        ROAD_GEOMETRY  ... UNLICENCSED  \\\n",
       "62389  Dark No street lights  Not at intersection  ...           0   \n",
       "62437                    Day   Cross intersection  ...           0   \n",
       "75272                    Day  Not at intersection  ...           0   \n",
       "75271  Dark No street lights  Not at intersection  ...           0   \n",
       "65611  Dark Street lights on       T intersection  ...           0   \n",
       "...                      ...                  ...  ...         ...   \n",
       "34     Dark No street lights  Not at intersection  ...           0   \n",
       "33     Dark Street lights on       T intersection  ...           0   \n",
       "32                       Day   Cross intersection  ...           0   \n",
       "31                       Day   Cross intersection  ...           0   \n",
       "0                  Dusk/Dawn  Not at intersection  ...           0   \n",
       "\n",
       "      NO_OF_VEHICLES HEAVYVEHICLE  PASSENGERVEHICLE  MOTORCYCLE  \\\n",
       "62389            1.0          0.0               1.0         0.0   \n",
       "62437            2.0          0.0               2.0         0.0   \n",
       "75272            2.0          0.0               2.0         0.0   \n",
       "75271            1.0          0.0               1.0         0.0   \n",
       "65611            2.0          0.0               2.0         0.0   \n",
       "...              ...          ...               ...         ...   \n",
       "34               3.0          1.0               1.0         0.0   \n",
       "33               2.0          0.0               2.0         0.0   \n",
       "32               2.0          0.0               2.0         0.0   \n",
       "31               1.0          0.0               0.0         1.0   \n",
       "0                4.0          0.0               4.0         0.0   \n",
       "\n",
       "       PUBLICVEHICLE   DEG_URBAN_ALL      LGA_NAME_ALL  \\\n",
       "62389            0.0  RURAL_VICTORIA           GEELONG   \n",
       "62437            0.0      MELB_URBAN  DANDENONG,MONASH   \n",
       "75272            0.0      MELB_URBAN              KNOX   \n",
       "75271            0.0  RURAL_VICTORIA       COLAC OTWAY   \n",
       "65611            0.0      MELB_URBAN            MONASH   \n",
       "...              ...             ...               ...   \n",
       "34               0.0  RURAL_VICTORIA            ARARAT   \n",
       "33               0.0      MELB_URBAN        WHITEHORSE   \n",
       "32               0.0      MELB_URBAN       MARIBYRNONG   \n",
       "31               0.0      MELB_URBAN        WHITTLESEA   \n",
       "0                0.0      MELB_URBAN             CASEY   \n",
       "\n",
       "                      REGION_NAME_ALL  STAT_DIV_NAME  \n",
       "62389            SOUTH WESTERN REGION        Country  \n",
       "62437  METROPOLITAN SOUTH EAST REGION          Metro  \n",
       "75272  METROPOLITAN SOUTH EAST REGION          Metro  \n",
       "75271            SOUTH WESTERN REGION        Country  \n",
       "65611  METROPOLITAN SOUTH EAST REGION          Metro  \n",
       "...                               ...            ...  \n",
       "34                     WESTERN REGION        Country  \n",
       "33     METROPOLITAN SOUTH EAST REGION          Metro  \n",
       "32     METROPOLITAN NORTH WEST REGION          Metro  \n",
       "31     METROPOLITAN NORTH WEST REGION          Metro  \n",
       "0      METROPOLITAN SOUTH EAST REGION          Metro  \n",
       "\n",
       "[75320 rows x 45 columns]"
      ]
     },
     "execution_count": 17,
     "metadata": {},
     "output_type": "execute_result"
    }
   ],
   "source": [
    "crashes.sort_values(by = \"ACCIDENT_DATE\",ascending=False)"
   ]
  },
  {
   "cell_type": "code",
   "execution_count": 29,
   "metadata": {},
   "outputs": [
    {
     "data": {
      "text/plain": [
       "Index(['ACCIDENT_NO', 'ACCIDENT_DATE', 'ACCIDENT_TIME', 'ALCOHOLTIME',\n",
       "       'ACCIDENT_TYPE', 'DAY_OF_WEEK', 'DCA_CODE', 'HIT_RUN_FLAG',\n",
       "       'LIGHT_CONDITION', 'ROAD_GEOMETRY', 'SEVERITY', 'SPEED_ZONE',\n",
       "       'RUN_OFFROAD', 'LONGITUDE', 'LATITUDE', 'TOTAL_PERSONS', 'INJ_OR_FATAL',\n",
       "       'FATALITY', 'SERIOUSINJURY', 'OTHERINJURY', 'NONINJURED', 'MALES',\n",
       "       'FEMALES', 'BICYCLIST', 'PASSENGER', 'DRIVER', 'PEDESTRIAN', 'PILLION',\n",
       "       'MOTORIST', 'PED_CYCLIST_5_12', 'PED_CYCLIST_13_18', 'OLD_PEDESTRIAN',\n",
       "       'OLD_DRIVER', 'YOUNG_DRIVER', 'ALCOHOL_RELATED', 'UNLICENCSED',\n",
       "       'NO_OF_VEHICLES', 'HEAVYVEHICLE', 'PASSENGERVEHICLE', 'MOTORCYCLE',\n",
       "       'PUBLICVEHICLE', 'DEG_URBAN_ALL', 'LGA_NAME_ALL', 'REGION_NAME_ALL',\n",
       "       'STAT_DIV_NAME'],\n",
       "      dtype='object')"
      ]
     },
     "execution_count": 29,
     "metadata": {},
     "output_type": "execute_result"
    }
   ],
   "source": [
    "crashes.columns"
   ]
  },
  {
   "cell_type": "code",
   "execution_count": 18,
   "metadata": {},
   "outputs": [],
   "source": [
    "lga = pd.read_csv(\"lga.csv\")"
   ]
  },
  {
   "cell_type": "code",
   "execution_count": 19,
   "metadata": {},
   "outputs": [],
   "source": [
    "lga = lga.rename(columns= {\"Value\": \"Population Size\"})\n",
    "lga_2018 = lga[lga[\"Time\"]==2018]\n",
    "lga_2018 = lga_2018.iloc[2:,]\n",
    "lga_2018 = lga_2018.iloc[:82-3,]\n",
    "lga_2 = lga_2018[[\"Region\",\"Population Size\"]]"
   ]
  },
  {
   "cell_type": "code",
   "execution_count": 27,
   "metadata": {},
   "outputs": [
    {
     "data": {
      "text/html": [
       "<div>\n",
       "<style scoped>\n",
       "    .dataframe tbody tr th:only-of-type {\n",
       "        vertical-align: middle;\n",
       "    }\n",
       "\n",
       "    .dataframe tbody tr th {\n",
       "        vertical-align: top;\n",
       "    }\n",
       "\n",
       "    .dataframe thead th {\n",
       "        text-align: right;\n",
       "    }\n",
       "</style>\n",
       "<table border=\"1\" class=\"dataframe\">\n",
       "  <thead>\n",
       "    <tr style=\"text-align: right;\">\n",
       "      <th></th>\n",
       "      <th>Population Size</th>\n",
       "      <th>LGA</th>\n",
       "    </tr>\n",
       "  </thead>\n",
       "  <tbody>\n",
       "    <tr>\n",
       "      <th>0</th>\n",
       "      <td>12730</td>\n",
       "      <td>Alpine</td>\n",
       "    </tr>\n",
       "    <tr>\n",
       "      <th>1</th>\n",
       "      <td>11795</td>\n",
       "      <td>Ararat</td>\n",
       "    </tr>\n",
       "    <tr>\n",
       "      <th>2</th>\n",
       "      <td>107325</td>\n",
       "      <td>Ballarat</td>\n",
       "    </tr>\n",
       "    <tr>\n",
       "      <th>3</th>\n",
       "      <td>130237</td>\n",
       "      <td>Banyule</td>\n",
       "    </tr>\n",
       "    <tr>\n",
       "      <th>4</th>\n",
       "      <td>35327</td>\n",
       "      <td>Bass</td>\n",
       "    </tr>\n",
       "    <tr>\n",
       "      <th>...</th>\n",
       "      <td>...</td>\n",
       "      <td>...</td>\n",
       "    </tr>\n",
       "    <tr>\n",
       "      <th>74</th>\n",
       "      <td>41429</td>\n",
       "      <td>Wodonga</td>\n",
       "    </tr>\n",
       "    <tr>\n",
       "      <th>75</th>\n",
       "      <td>255322</td>\n",
       "      <td>Wyndham</td>\n",
       "    </tr>\n",
       "    <tr>\n",
       "      <th>76</th>\n",
       "      <td>98521</td>\n",
       "      <td>Yarra</td>\n",
       "    </tr>\n",
       "    <tr>\n",
       "      <th>77</th>\n",
       "      <td>158173</td>\n",
       "      <td>Yarra</td>\n",
       "    </tr>\n",
       "    <tr>\n",
       "      <th>78</th>\n",
       "      <td>6658</td>\n",
       "      <td>Yarriambiack</td>\n",
       "    </tr>\n",
       "  </tbody>\n",
       "</table>\n",
       "<p>79 rows × 2 columns</p>\n",
       "</div>"
      ],
      "text/plain": [
       "    Population Size           LGA\n",
       "0             12730        Alpine\n",
       "1             11795        Ararat\n",
       "2            107325      Ballarat\n",
       "3            130237       Banyule\n",
       "4             35327          Bass\n",
       "..              ...           ...\n",
       "74            41429       Wodonga\n",
       "75           255322       Wyndham\n",
       "76            98521         Yarra\n",
       "77           158173         Yarra\n",
       "78             6658  Yarriambiack\n",
       "\n",
       "[79 rows x 2 columns]"
      ]
     },
     "execution_count": 27,
     "metadata": {},
     "output_type": "execute_result"
    }
   ],
   "source": [
    "lga_2[['LGA','letter','value']] = lga_2.Region.str.split(\" \",expand=True,)\n",
    "final_lga = lga_2.drop(['Region','letter','value'],axis=1)\n",
    "final_lga = final_lga.reset_index()\n",
    "final_lga= final_lga.drop(\"index\",axis=1)\n",
    "final_lga"
   ]
  }
 ],
 "metadata": {
  "interpreter": {
   "hash": "aee8b7b246df8f9039afb4144a1f6fd8d2ca17a180786b69acc140d282b71a49"
  },
  "kernelspec": {
   "display_name": "Python 3.9.5 64-bit",
   "name": "python3"
  },
  "language_info": {
   "codemirror_mode": {
    "name": "ipython",
    "version": 3
   },
   "file_extension": ".py",
   "mimetype": "text/x-python",
   "name": "python",
   "nbconvert_exporter": "python",
   "pygments_lexer": "ipython3",
   "version": "3.9.5"
  },
  "orig_nbformat": 4
 },
 "nbformat": 4,
 "nbformat_minor": 2
}
